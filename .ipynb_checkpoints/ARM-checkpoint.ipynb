{
 "cells": [
  {
   "cell_type": "code",
   "execution_count": null,
   "id": "99c577df-1ab8-496a-9aa7-0714ef443a2e",
   "metadata": {},
   "outputs": [],
   "source": [
    "library(arules)\n",
    "basket_df <- read.csv('data/basket_df_all.csv')\n",
    "basket_df_pos <- read.transactions('data/basket_pos.csv',format='b',header=TRUE)\n",
    "basket_df_neg <- read.transactions('data/basket_neg.csv',format='b',header=TRUE)"
   ]
  },
  {
   "cell_type": "code",
   "execution_count": 46,
   "id": "78b6ce4e-9b81-4acf-b50b-a295989733f0",
   "metadata": {},
   "outputs": [
    {
     "data": {
      "text/html": [
       "<table class=\"dataframe\">\n",
       "<caption>A data.frame: 6 × 3</caption>\n",
       "<thead>\n",
       "\t<tr><th></th><th scope=col>X</th><th scope=col>LABEL</th><th scope=col>transactions</th></tr>\n",
       "\t<tr><th></th><th scope=col>&lt;int&gt;</th><th scope=col>&lt;chr&gt;</th><th scope=col>&lt;chr&gt;</th></tr>\n",
       "</thead>\n",
       "<tbody>\n",
       "\t<tr><th scope=row>1</th><td>0</td><td>Positive</td><td>arrow bit bought bow buy correct decide did draw easy eventually far feel felt figure fine getting good got great guess guide husband instruction just kid lb like limb ll long need needed photo practice read review reviewer said say screw setup shelf shoot shooting shot shoulder target thought ultimately update use wa wanted way white year                                                                                                                                                               </td></tr>\n",
       "\t<tr><th scope=row>2</th><td>1</td><td>Negative</td><td>bad bow company ha half having help hope just look maybe package people purchase string thank thought tried twist wa way worth                                                                                                                                                                                                                                                                                                                                                                                      </td></tr>\n",
       "\t<tr><th scope=row>3</th><td>2</td><td>Positive</td><td>archery arrow awesome bag big bought bow box come company day easier end far felt figure folk good got great ha instruction lb limb look make mounting new nice option owned peice problem read recommend recurve recurves rest riser setting shoot shooting shot simple star string stringer time ve video wa wife year                                                                                                                                                                                            </td></tr>\n",
       "\t<tr><th scope=row>4</th><td>3</td><td>Negative</td><td>accessory arrow beat better bow button came cheap come compound contact did far felt giving groove ha just keeping light like limb lower really recurve rest returning seller slightly stabilizer star string tell tried twisted twisting use wa wanted way work                                                                                                                                                                                                                                                    </td></tr>\n",
       "\t<tr><th scope=row>5</th><td>4</td><td>Positive</td><td>able accurate added allow archer archery arrow attachment beat beginner bought bow buy cheap come compound couple day decided did disappointed don draw equipment experienced fit good half hard heavy help highly hit hope hunt hunting husband inch just lb let light like limb little long looking love lower make mentioned mind piece price quality really recommend recurve rest review riser rubber set shelf shoot shooting shoulder small step string tell tip upper use used wanted weight wife write year</td></tr>\n",
       "\t<tr><th scope=row>6</th><td>5</td><td>Negative</td><td>accurate arrow bad bow dont limb little maybe money pretty recommend said shoot shooting starting upper use ya yard                                                                                                                                                                                                                                                                                                                                                                                                 </td></tr>\n",
       "</tbody>\n",
       "</table>\n"
      ],
      "text/latex": [
       "A data.frame: 6 × 3\n",
       "\\begin{tabular}{r|lll}\n",
       "  & X & LABEL & transactions\\\\\n",
       "  & <int> & <chr> & <chr>\\\\\n",
       "\\hline\n",
       "\t1 & 0 & Positive & arrow bit bought bow buy correct decide did draw easy eventually far feel felt figure fine getting good got great guess guide husband instruction just kid lb like limb ll long need needed photo practice read review reviewer said say screw setup shelf shoot shooting shot shoulder target thought ultimately update use wa wanted way white year                                                                                                                                                               \\\\\n",
       "\t2 & 1 & Negative & bad bow company ha half having help hope just look maybe package people purchase string thank thought tried twist wa way worth                                                                                                                                                                                                                                                                                                                                                                                      \\\\\n",
       "\t3 & 2 & Positive & archery arrow awesome bag big bought bow box come company day easier end far felt figure folk good got great ha instruction lb limb look make mounting new nice option owned peice problem read recommend recurve recurves rest riser setting shoot shooting shot simple star string stringer time ve video wa wife year                                                                                                                                                                                            \\\\\n",
       "\t4 & 3 & Negative & accessory arrow beat better bow button came cheap come compound contact did far felt giving groove ha just keeping light like limb lower really recurve rest returning seller slightly stabilizer star string tell tried twisted twisting use wa wanted way work                                                                                                                                                                                                                                                    \\\\\n",
       "\t5 & 4 & Positive & able accurate added allow archer archery arrow attachment beat beginner bought bow buy cheap come compound couple day decided did disappointed don draw equipment experienced fit good half hard heavy help highly hit hope hunt hunting husband inch just lb let light like limb little long looking love lower make mentioned mind piece price quality really recommend recurve rest review riser rubber set shelf shoot shooting shoulder small step string tell tip upper use used wanted weight wife write year\\\\\n",
       "\t6 & 5 & Negative & accurate arrow bad bow dont limb little maybe money pretty recommend said shoot shooting starting upper use ya yard                                                                                                                                                                                                                                                                                                                                                                                                 \\\\\n",
       "\\end{tabular}\n"
      ],
      "text/markdown": [
       "\n",
       "A data.frame: 6 × 3\n",
       "\n",
       "| <!--/--> | X &lt;int&gt; | LABEL &lt;chr&gt; | transactions &lt;chr&gt; |\n",
       "|---|---|---|---|\n",
       "| 1 | 0 | Positive | arrow bit bought bow buy correct decide did draw easy eventually far feel felt figure fine getting good got great guess guide husband instruction just kid lb like limb ll long need needed photo practice read review reviewer said say screw setup shelf shoot shooting shot shoulder target thought ultimately update use wa wanted way white year                                                                                                                                                                |\n",
       "| 2 | 1 | Negative | bad bow company ha half having help hope just look maybe package people purchase string thank thought tried twist wa way worth                                                                                                                                                                                                                                                                                                                                                                                       |\n",
       "| 3 | 2 | Positive | archery arrow awesome bag big bought bow box come company day easier end far felt figure folk good got great ha instruction lb limb look make mounting new nice option owned peice problem read recommend recurve recurves rest riser setting shoot shooting shot simple star string stringer time ve video wa wife year                                                                                                                                                                                             |\n",
       "| 4 | 3 | Negative | accessory arrow beat better bow button came cheap come compound contact did far felt giving groove ha just keeping light like limb lower really recurve rest returning seller slightly stabilizer star string tell tried twisted twisting use wa wanted way work                                                                                                                                                                                                                                                     |\n",
       "| 5 | 4 | Positive | able accurate added allow archer archery arrow attachment beat beginner bought bow buy cheap come compound couple day decided did disappointed don draw equipment experienced fit good half hard heavy help highly hit hope hunt hunting husband inch just lb let light like limb little long looking love lower make mentioned mind piece price quality really recommend recurve rest review riser rubber set shelf shoot shooting shoulder small step string tell tip upper use used wanted weight wife write year |\n",
       "| 6 | 5 | Negative | accurate arrow bad bow dont limb little maybe money pretty recommend said shoot shooting starting upper use ya yard                                                                                                                                                                                                                                                                                                                                                                                                  |\n",
       "\n"
      ],
      "text/plain": [
       "  X LABEL   \n",
       "1 0 Positive\n",
       "2 1 Negative\n",
       "3 2 Positive\n",
       "4 3 Negative\n",
       "5 4 Positive\n",
       "6 5 Negative\n",
       "  transactions                                                                                                                                                                                                                                                                                                                                                                                                                                                                                                        \n",
       "1 arrow bit bought bow buy correct decide did draw easy eventually far feel felt figure fine getting good got great guess guide husband instruction just kid lb like limb ll long need needed photo practice read review reviewer said say screw setup shelf shoot shooting shot shoulder target thought ultimately update use wa wanted way white year                                                                                                                                                               \n",
       "2 bad bow company ha half having help hope just look maybe package people purchase string thank thought tried twist wa way worth                                                                                                                                                                                                                                                                                                                                                                                      \n",
       "3 archery arrow awesome bag big bought bow box come company day easier end far felt figure folk good got great ha instruction lb limb look make mounting new nice option owned peice problem read recommend recurve recurves rest riser setting shoot shooting shot simple star string stringer time ve video wa wife year                                                                                                                                                                                            \n",
       "4 accessory arrow beat better bow button came cheap come compound contact did far felt giving groove ha just keeping light like limb lower really recurve rest returning seller slightly stabilizer star string tell tried twisted twisting use wa wanted way work                                                                                                                                                                                                                                                    \n",
       "5 able accurate added allow archer archery arrow attachment beat beginner bought bow buy cheap come compound couple day decided did disappointed don draw equipment experienced fit good half hard heavy help highly hit hope hunt hunting husband inch just lb let light like limb little long looking love lower make mentioned mind piece price quality really recommend recurve rest review riser rubber set shelf shoot shooting shoulder small step string tell tip upper use used wanted weight wife write year\n",
       "6 accurate arrow bad bow dont limb little maybe money pretty recommend said shoot shooting starting upper use ya yard                                                                                                                                                                                                                                                                                                                                                                                                 "
      ]
     },
     "metadata": {},
     "output_type": "display_data"
    }
   ],
   "source": [
    "head(basket_df)"
   ]
  },
  {
   "cell_type": "code",
   "execution_count": null,
   "id": "053c6df6-6672-4f95-ac93-3f852abf970d",
   "metadata": {},
   "outputs": [],
   "source": [
    "FirstRule <- arules::apriori(basket_df_pos, parameter = list(support=0.3,\n",
    "                                                    confidence =0.5,\n",
    "                                                    minlen=2))"
   ]
  },
  {
   "cell_type": "code",
   "execution_count": null,
   "id": "b6dbddc1-e516-44a7-8fef-85edf264c344",
   "metadata": {},
   "outputs": [],
   "source": [
    "FirstRule <- arules::apriori(basket_df_neg, parameter = list(support=0.07,\n",
    "                                                    confidence =0.5,\n",
    "                                                    minlen=2))"
   ]
  },
  {
   "cell_type": "code",
   "execution_count": null,
   "id": "ecdd64a3-750f-469f-af10-df460214d616",
   "metadata": {},
   "outputs": [],
   "source": []
  }
 ],
 "metadata": {
  "kernelspec": {
   "display_name": "R",
   "language": "R",
   "name": "ir"
  },
  "language_info": {
   "codemirror_mode": "r",
   "file_extension": ".r",
   "mimetype": "text/x-r-source",
   "name": "R",
   "pygments_lexer": "r",
   "version": "4.1.3"
  }
 },
 "nbformat": 4,
 "nbformat_minor": 5
}
